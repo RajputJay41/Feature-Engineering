{
 "cells": [
  {
   "cell_type": "markdown",
   "metadata": {},
   "source": [
    "# Normalization and Standardization\n",
    "\n",
    "# Transformation of Features\n",
    "\n",
    "why transformation of features are required?\n",
    "\n",
    "1. Linear Regression---Gradient Descent---GlobalMinima\n",
    "2. Alogorithms like KNN, k-Means, Hierarchical clustering-- Eucledian Distance.\n",
    "\n",
    "Every point has some vectors and direction\n",
    "\n",
    "Deep learning Techniques (standardization, Scaling)\n",
    "1. ANN----> Global Minima, Gradient \n",
    "2. CNN\n",
    "3. RNN\n",
    "\n",
    "\n"
   ]
  },
  {
   "cell_type": "markdown",
   "metadata": {},
   "source": [
    "# Types Of Transformations\n",
    "\n",
    "1. normalization and standardization.\n",
    "2. scaling to minimum and maximum values.\n",
    "3. scaling to median and quantiles.\n",
    "4. Gaussian Transformation\n",
    "        (i) Logarithmic Transformation\n",
    "        (ii) Reciprocal Transformation\n",
    "        (iii)Square Root Transformation\n",
    "        (iv) Exponential Transformation\n",
    "        (v)Box Cox Transformation"
   ]
  },
  {
   "cell_type": "markdown",
   "metadata": {},
   "source": [
    "# Standardization \n",
    "\n",
    "1. We try to bring all the variables or features to a similar scales.\n",
    "2. Standardization means centering the variable at zero.\n",
    "3. Formula:- z=(x-x_mean)/STD"
   ]
  },
  {
   "cell_type": "code",
   "execution_count": 8,
   "metadata": {},
   "outputs": [],
   "source": [
    "import pandas as pd"
   ]
  },
  {
   "cell_type": "code",
   "execution_count": 9,
   "metadata": {},
   "outputs": [],
   "source": [
    "df = pd.read_csv('train.csv', usecols=['Pclass','Age','Fare','Survived'])"
   ]
  },
  {
   "cell_type": "code",
   "execution_count": 10,
   "metadata": {},
   "outputs": [
    {
     "data": {
      "text/html": [
       "<div>\n",
       "<style scoped>\n",
       "    .dataframe tbody tr th:only-of-type {\n",
       "        vertical-align: middle;\n",
       "    }\n",
       "\n",
       "    .dataframe tbody tr th {\n",
       "        vertical-align: top;\n",
       "    }\n",
       "\n",
       "    .dataframe thead th {\n",
       "        text-align: right;\n",
       "    }\n",
       "</style>\n",
       "<table border=\"1\" class=\"dataframe\">\n",
       "  <thead>\n",
       "    <tr style=\"text-align: right;\">\n",
       "      <th></th>\n",
       "      <th>Survived</th>\n",
       "      <th>Pclass</th>\n",
       "      <th>Age</th>\n",
       "      <th>Fare</th>\n",
       "    </tr>\n",
       "  </thead>\n",
       "  <tbody>\n",
       "    <tr>\n",
       "      <th>0</th>\n",
       "      <td>0</td>\n",
       "      <td>3</td>\n",
       "      <td>22.0</td>\n",
       "      <td>7.2500</td>\n",
       "    </tr>\n",
       "    <tr>\n",
       "      <th>1</th>\n",
       "      <td>1</td>\n",
       "      <td>1</td>\n",
       "      <td>38.0</td>\n",
       "      <td>71.2833</td>\n",
       "    </tr>\n",
       "    <tr>\n",
       "      <th>2</th>\n",
       "      <td>1</td>\n",
       "      <td>3</td>\n",
       "      <td>26.0</td>\n",
       "      <td>7.9250</td>\n",
       "    </tr>\n",
       "    <tr>\n",
       "      <th>3</th>\n",
       "      <td>1</td>\n",
       "      <td>1</td>\n",
       "      <td>35.0</td>\n",
       "      <td>53.1000</td>\n",
       "    </tr>\n",
       "    <tr>\n",
       "      <th>4</th>\n",
       "      <td>0</td>\n",
       "      <td>3</td>\n",
       "      <td>35.0</td>\n",
       "      <td>8.0500</td>\n",
       "    </tr>\n",
       "  </tbody>\n",
       "</table>\n",
       "</div>"
      ],
      "text/plain": [
       "   Survived  Pclass   Age     Fare\n",
       "0         0       3  22.0   7.2500\n",
       "1         1       1  38.0  71.2833\n",
       "2         1       3  26.0   7.9250\n",
       "3         1       1  35.0  53.1000\n",
       "4         0       3  35.0   8.0500"
      ]
     },
     "execution_count": 10,
     "metadata": {},
     "output_type": "execute_result"
    }
   ],
   "source": [
    "df.head()"
   ]
  },
  {
   "cell_type": "code",
   "execution_count": 11,
   "metadata": {},
   "outputs": [],
   "source": [
    "df[\"Age\"].fillna(df.Age.median(),inplace=True)"
   ]
  },
  {
   "cell_type": "code",
   "execution_count": 12,
   "metadata": {},
   "outputs": [
    {
     "data": {
      "text/plain": [
       "Survived    0\n",
       "Pclass      0\n",
       "Age         0\n",
       "Fare        0\n",
       "dtype: int64"
      ]
     },
     "execution_count": 12,
     "metadata": {},
     "output_type": "execute_result"
    }
   ],
   "source": [
    "df.isnull().sum()"
   ]
  },
  {
   "cell_type": "code",
   "execution_count": 13,
   "metadata": {},
   "outputs": [],
   "source": [
    "### we use the standard scaler from sklearn library"
   ]
  },
  {
   "cell_type": "code",
   "execution_count": 14,
   "metadata": {},
   "outputs": [],
   "source": [
    "from sklearn.preprocessing import StandardScaler"
   ]
  },
  {
   "cell_type": "code",
   "execution_count": 20,
   "metadata": {},
   "outputs": [
    {
     "data": {
      "text/html": [
       "<div>\n",
       "<style scoped>\n",
       "    .dataframe tbody tr th:only-of-type {\n",
       "        vertical-align: middle;\n",
       "    }\n",
       "\n",
       "    .dataframe tbody tr th {\n",
       "        vertical-align: top;\n",
       "    }\n",
       "\n",
       "    .dataframe thead th {\n",
       "        text-align: right;\n",
       "    }\n",
       "</style>\n",
       "<table border=\"1\" class=\"dataframe\">\n",
       "  <thead>\n",
       "    <tr style=\"text-align: right;\">\n",
       "      <th></th>\n",
       "      <th>0</th>\n",
       "      <th>1</th>\n",
       "      <th>2</th>\n",
       "      <th>3</th>\n",
       "    </tr>\n",
       "  </thead>\n",
       "  <tbody>\n",
       "    <tr>\n",
       "      <th>0</th>\n",
       "      <td>-0.789272</td>\n",
       "      <td>0.827377</td>\n",
       "      <td>-0.565736</td>\n",
       "      <td>-0.502445</td>\n",
       "    </tr>\n",
       "    <tr>\n",
       "      <th>1</th>\n",
       "      <td>1.266990</td>\n",
       "      <td>-1.566107</td>\n",
       "      <td>0.663861</td>\n",
       "      <td>0.786845</td>\n",
       "    </tr>\n",
       "    <tr>\n",
       "      <th>2</th>\n",
       "      <td>1.266990</td>\n",
       "      <td>0.827377</td>\n",
       "      <td>-0.258337</td>\n",
       "      <td>-0.488854</td>\n",
       "    </tr>\n",
       "    <tr>\n",
       "      <th>3</th>\n",
       "      <td>1.266990</td>\n",
       "      <td>-1.566107</td>\n",
       "      <td>0.433312</td>\n",
       "      <td>0.420730</td>\n",
       "    </tr>\n",
       "    <tr>\n",
       "      <th>4</th>\n",
       "      <td>-0.789272</td>\n",
       "      <td>0.827377</td>\n",
       "      <td>0.433312</td>\n",
       "      <td>-0.486337</td>\n",
       "    </tr>\n",
       "    <tr>\n",
       "      <th>...</th>\n",
       "      <td>...</td>\n",
       "      <td>...</td>\n",
       "      <td>...</td>\n",
       "      <td>...</td>\n",
       "    </tr>\n",
       "    <tr>\n",
       "      <th>886</th>\n",
       "      <td>-0.789272</td>\n",
       "      <td>-0.369365</td>\n",
       "      <td>-0.181487</td>\n",
       "      <td>-0.386671</td>\n",
       "    </tr>\n",
       "    <tr>\n",
       "      <th>887</th>\n",
       "      <td>1.266990</td>\n",
       "      <td>-1.566107</td>\n",
       "      <td>-0.796286</td>\n",
       "      <td>-0.044381</td>\n",
       "    </tr>\n",
       "    <tr>\n",
       "      <th>888</th>\n",
       "      <td>-0.789272</td>\n",
       "      <td>0.827377</td>\n",
       "      <td>-0.104637</td>\n",
       "      <td>-0.176263</td>\n",
       "    </tr>\n",
       "    <tr>\n",
       "      <th>889</th>\n",
       "      <td>1.266990</td>\n",
       "      <td>-1.566107</td>\n",
       "      <td>-0.258337</td>\n",
       "      <td>-0.044381</td>\n",
       "    </tr>\n",
       "    <tr>\n",
       "      <th>890</th>\n",
       "      <td>-0.789272</td>\n",
       "      <td>0.827377</td>\n",
       "      <td>0.202762</td>\n",
       "      <td>-0.492378</td>\n",
       "    </tr>\n",
       "  </tbody>\n",
       "</table>\n",
       "<p>891 rows × 4 columns</p>\n",
       "</div>"
      ],
      "text/plain": [
       "            0         1         2         3\n",
       "0   -0.789272  0.827377 -0.565736 -0.502445\n",
       "1    1.266990 -1.566107  0.663861  0.786845\n",
       "2    1.266990  0.827377 -0.258337 -0.488854\n",
       "3    1.266990 -1.566107  0.433312  0.420730\n",
       "4   -0.789272  0.827377  0.433312 -0.486337\n",
       "..        ...       ...       ...       ...\n",
       "886 -0.789272 -0.369365 -0.181487 -0.386671\n",
       "887  1.266990 -1.566107 -0.796286 -0.044381\n",
       "888 -0.789272  0.827377 -0.104637 -0.176263\n",
       "889  1.266990 -1.566107 -0.258337 -0.044381\n",
       "890 -0.789272  0.827377  0.202762 -0.492378\n",
       "\n",
       "[891 rows x 4 columns]"
      ]
     },
     "execution_count": 20,
     "metadata": {},
     "output_type": "execute_result"
    }
   ],
   "source": [
    "scaler=StandardScaler()\n",
    "##fit vs fit_transform\n",
    "####https://scikit-learn.org/stable/modules/generated/sklearn.preprocessing.StandardScaler.html:- Do read this.\n",
    "df_scaled = scaler.fit_transform(df)\n",
    "pd.DataFrame(df_scaled)"
   ]
  },
  {
   "cell_type": "code",
   "execution_count": 22,
   "metadata": {},
   "outputs": [],
   "source": [
    "import matplotlib.pyplot as plt\n",
    "%matplotlib inline"
   ]
  },
  {
   "cell_type": "code",
   "execution_count": 24,
   "metadata": {},
   "outputs": [
    {
     "data": {
      "text/plain": [
       "(array([216.,   0.,   0.,   0.,   0.,   0.,   0.,   0.,   0.,   0., 184.,\n",
       "          0.,   0.,   0.,   0.,   0.,   0.,   0.,   0., 491.]),\n",
       " array([-1.56610693, -1.44643272, -1.32675851, -1.2070843 , -1.08741009,\n",
       "        -0.96773588, -0.84806167, -0.72838747, -0.60871326, -0.48903905,\n",
       "        -0.36936484, -0.24969063, -0.13001642, -0.01034222,  0.10933199,\n",
       "         0.2290062 ,  0.34868041,  0.46835462,  0.58802883,  0.70770304,\n",
       "         0.82737724]),\n",
       " <a list of 20 Patch objects>)"
      ]
     },
     "execution_count": 24,
     "metadata": {},
     "output_type": "execute_result"
    },
    {
     "data": {
      "image/png": "[encoded data removed]",
      "text/plain": [
       "<Figure size 432x288 with 1 Axes>"
      ]
     },
     "metadata": {
      "needs_background": "light"
     },
     "output_type": "display_data"
    }
   ],
   "source": [
    "###with respect to Pclass\n",
    "plt.hist(df_scaled[:,1],bins=20)"
   ]
  },
  {
   "cell_type": "code",
   "execution_count": 25,
   "metadata": {},
   "outputs": [
    {
     "data": {
      "text/plain": [
       "(array([ 40.,  14.,  15.,  31.,  79.,  98., 262.,  84.,  73.,  45.,  35.,\n",
       "         35.,  29.,  16.,  13.,  11.,   4.,   5.,   1.,   1.]),\n",
       " array([-2.22415608, -1.91837055, -1.61258503, -1.3067995 , -1.00101397,\n",
       "        -0.69522845, -0.38944292, -0.08365739,  0.22212813,  0.52791366,\n",
       "         0.83369919,  1.13948471,  1.44527024,  1.75105577,  2.05684129,\n",
       "         2.36262682,  2.66841235,  2.97419787,  3.2799834 ,  3.58576892,\n",
       "         3.89155445]),\n",
       " <a list of 20 Patch objects>)"
      ]
     },
     "execution_count": 25,
     "metadata": {},
     "output_type": "execute_result"
    },
    {
     "data": {
      "image/png": "[encoded data removed]",
      "text/plain": [
       "<Figure size 432x288 with 1 Axes>"
      ]
     },
     "metadata": {
      "needs_background": "light"
     },
     "output_type": "display_data"
    }
   ],
   "source": [
    "## with respect to Age\n",
    "plt.hist(df_scaled[:,2],bins=20)"
   ]
  },
  {
   "cell_type": "code",
   "execution_count": 28,
   "metadata": {},
   "outputs": [
    {
     "data": {
      "text/plain": [
       "(array([562., 170.,  67.,  39.,  15.,  16.,   2.,   0.,   9.,   2.,   6.,\n",
       "          0.,   0.,   0.,   0.,   0.,   0.,   0.,   0.,   3.]),\n",
       " array([-0.64842165, -0.13264224,  0.38313716,  0.89891657,  1.41469598,\n",
       "         1.93047539,  2.4462548 ,  2.96203421,  3.47781362,  3.99359303,\n",
       "         4.50937244,  5.02515184,  5.54093125,  6.05671066,  6.57249007,\n",
       "         7.08826948,  7.60404889,  8.1198283 ,  8.63560771,  9.15138712,\n",
       "         9.66716653]),\n",
       " <a list of 20 Patch objects>)"
      ]
     },
     "execution_count": 28,
     "metadata": {},
     "output_type": "execute_result"
    },
    {
     "data": {
      "image/png": "[encoded data removed]",
      "text/plain": [
       "<Figure size 432x288 with 1 Axes>"
      ]
     },
     "metadata": {
      "needs_background": "light"
     },
     "output_type": "display_data"
    }
   ],
   "source": [
    "##for fare:- IT has many outliers as the values and the graph is Right skewed\n",
    "plt.hist(df_scaled[:,3],bins=20)"
   ]
  },
  {
   "cell_type": "markdown",
   "metadata": {},
   "source": [
    "# Min Max Scaling\n",
    "1. Min max saclaing transform the values, between 0 to 1.\n",
    "2. Formula:- (X -X.minimum/(X.max -X.min)\n",
    "3. Mostly used technique in Deep learning. and mostly used in CNN "
   ]
  },
  {
   "cell_type": "code",
   "execution_count": 36,
   "metadata": {},
   "outputs": [],
   "source": [
    "from sklearn.preprocessing import MinMaxScaler\n",
    "min_max = MinMaxScaler()\n",
    "df_minmax = pd.DataFrame(min_max.fit_transform(df),columns=df.columns)"
   ]
  },
  {
   "cell_type": "code",
   "execution_count": 37,
   "metadata": {},
   "outputs": [
    {
     "data": {
      "text/html": [
       "<div>\n",
       "<style scoped>\n",
       "    .dataframe tbody tr th:only-of-type {\n",
       "        vertical-align: middle;\n",
       "    }\n",
       "\n",
       "    .dataframe tbody tr th {\n",
       "        vertical-align: top;\n",
       "    }\n",
       "\n",
       "    .dataframe thead th {\n",
       "        text-align: right;\n",
       "    }\n",
       "</style>\n",
       "<table border=\"1\" class=\"dataframe\">\n",
       "  <thead>\n",
       "    <tr style=\"text-align: right;\">\n",
       "      <th></th>\n",
       "      <th>Survived</th>\n",
       "      <th>Pclass</th>\n",
       "      <th>Age</th>\n",
       "      <th>Fare</th>\n",
       "    </tr>\n",
       "  </thead>\n",
       "  <tbody>\n",
       "    <tr>\n",
       "      <th>0</th>\n",
       "      <td>0.0</td>\n",
       "      <td>1.0</td>\n",
       "      <td>0.271174</td>\n",
       "      <td>0.014151</td>\n",
       "    </tr>\n",
       "    <tr>\n",
       "      <th>1</th>\n",
       "      <td>1.0</td>\n",
       "      <td>0.0</td>\n",
       "      <td>0.472229</td>\n",
       "      <td>0.139136</td>\n",
       "    </tr>\n",
       "    <tr>\n",
       "      <th>2</th>\n",
       "      <td>1.0</td>\n",
       "      <td>1.0</td>\n",
       "      <td>0.321438</td>\n",
       "      <td>0.015469</td>\n",
       "    </tr>\n",
       "    <tr>\n",
       "      <th>3</th>\n",
       "      <td>1.0</td>\n",
       "      <td>0.0</td>\n",
       "      <td>0.434531</td>\n",
       "      <td>0.103644</td>\n",
       "    </tr>\n",
       "    <tr>\n",
       "      <th>4</th>\n",
       "      <td>0.0</td>\n",
       "      <td>1.0</td>\n",
       "      <td>0.434531</td>\n",
       "      <td>0.015713</td>\n",
       "    </tr>\n",
       "  </tbody>\n",
       "</table>\n",
       "</div>"
      ],
      "text/plain": [
       "   Survived  Pclass       Age      Fare\n",
       "0       0.0     1.0  0.271174  0.014151\n",
       "1       1.0     0.0  0.472229  0.139136\n",
       "2       1.0     1.0  0.321438  0.015469\n",
       "3       1.0     0.0  0.434531  0.103644\n",
       "4       0.0     1.0  0.434531  0.015713"
      ]
     },
     "execution_count": 37,
     "metadata": {},
     "output_type": "execute_result"
    }
   ],
   "source": [
    "df_minmax.head()"
   ]
  },
  {
   "cell_type": "code",
   "execution_count": 39,
   "metadata": {},
   "outputs": [
    {
     "data": {
      "text/plain": [
       "(array([216.,   0.,   0.,   0.,   0.,   0.,   0.,   0.,   0.,   0., 184.,\n",
       "          0.,   0.,   0.,   0.,   0.,   0.,   0.,   0., 491.]),\n",
       " array([0.  , 0.05, 0.1 , 0.15, 0.2 , 0.25, 0.3 , 0.35, 0.4 , 0.45, 0.5 ,\n",
       "        0.55, 0.6 , 0.65, 0.7 , 0.75, 0.8 , 0.85, 0.9 , 0.95, 1.  ]),\n",
       " <a list of 20 Patch objects>)"
      ]
     },
     "execution_count": 39,
     "metadata": {},
     "output_type": "execute_result"
    },
    {
     "data": {
      "image/png": "[encoded data removed]",
      "text/plain": [
       "<Figure size 432x288 with 1 Axes>"
      ]
     },
     "metadata": {
      "needs_background": "light"
     },
     "output_type": "display_data"
    }
   ],
   "source": [
    "plt.hist(df_minmax['Pclass'],bins=20)"
   ]
  },
  {
   "cell_type": "code",
   "execution_count": 40,
   "metadata": {},
   "outputs": [
    {
     "data": {
      "text/plain": [
       "(array([ 40.,  14.,  15.,  31.,  79.,  98., 262.,  84.,  73.,  45.,  35.,\n",
       "         35.,  29.,  16.,  13.,  11.,   4.,   5.,   1.,   1.]),\n",
       " array([0.  , 0.05, 0.1 , 0.15, 0.2 , 0.25, 0.3 , 0.35, 0.4 , 0.45, 0.5 ,\n",
       "        0.55, 0.6 , 0.65, 0.7 , 0.75, 0.8 , 0.85, 0.9 , 0.95, 1.  ]),\n",
       " <a list of 20 Patch objects>)"
      ]
     },
     "execution_count": 40,
     "metadata": {},
     "output_type": "execute_result"
    },
    {
     "data": {
      "image/png": "[encoded data removed]",
      "text/plain": [
       "<Figure size 432x288 with 1 Axes>"
      ]
     },
     "metadata": {
      "needs_background": "light"
     },
     "output_type": "display_data"
    }
   ],
   "source": [
    "plt.hist(df_minmax['Age'],bins=20)"
   ]
  },
  {
   "cell_type": "code",
   "execution_count": 41,
   "metadata": {},
   "outputs": [
    {
     "data": {
      "text/plain": [
       "(array([562., 170.,  67.,  39.,  15.,  16.,   2.,   0.,   9.,   2.,   6.,\n",
       "          0.,   0.,   0.,   0.,   0.,   0.,   0.,   0.,   3.]),\n",
       " array([0.  , 0.05, 0.1 , 0.15, 0.2 , 0.25, 0.3 , 0.35, 0.4 , 0.45, 0.5 ,\n",
       "        0.55, 0.6 , 0.65, 0.7 , 0.75, 0.8 , 0.85, 0.9 , 0.95, 1.  ]),\n",
       " <a list of 20 Patch objects>)"
      ]
     },
     "execution_count": 41,
     "metadata": {},
     "output_type": "execute_result"
    },
    {
     "data": {
      "image/png": "[encoded data removed]",
      "text/plain": [
       "<Figure size 432x288 with 1 Axes>"
      ]
     },
     "metadata": {
      "needs_background": "light"
     },
     "output_type": "display_data"
    }
   ],
   "source": [
    "plt.hist(df_minmax['Fare'],bins=20)"
   ]
  },
  {
   "cell_type": "markdown",
   "metadata": {},
   "source": [
    "# Robust Scaler\n",
    "1. It is used to scale the feature to median and Quantiles.\n",
    "2. Sacling using the median and quantiles consists of subtracting the median to all the obeservations, and then dividing by the interquantile differnce between the 75th and 25th quantile:\n",
    "\n",
    "IQR = 75th quantile- 25th quantile\n",
    "\n",
    "Formula:- (X - X.median) / IQR"
   ]
  },
  {
   "cell_type": "code",
   "execution_count": 43,
   "metadata": {},
   "outputs": [
    {
     "data": {
      "text/html": [
       "<div>\n",
       "<style scoped>\n",
       "    .dataframe tbody tr th:only-of-type {\n",
       "        vertical-align: middle;\n",
       "    }\n",
       "\n",
       "    .dataframe tbody tr th {\n",
       "        vertical-align: top;\n",
       "    }\n",
       "\n",
       "    .dataframe thead th {\n",
       "        text-align: right;\n",
       "    }\n",
       "</style>\n",
       "<table border=\"1\" class=\"dataframe\">\n",
       "  <thead>\n",
       "    <tr style=\"text-align: right;\">\n",
       "      <th></th>\n",
       "      <th>Survived</th>\n",
       "      <th>Pclass</th>\n",
       "      <th>Age</th>\n",
       "      <th>Fare</th>\n",
       "    </tr>\n",
       "  </thead>\n",
       "  <tbody>\n",
       "    <tr>\n",
       "      <th>0</th>\n",
       "      <td>0.0</td>\n",
       "      <td>0.0</td>\n",
       "      <td>-0.461538</td>\n",
       "      <td>-0.312011</td>\n",
       "    </tr>\n",
       "    <tr>\n",
       "      <th>1</th>\n",
       "      <td>1.0</td>\n",
       "      <td>-2.0</td>\n",
       "      <td>0.769231</td>\n",
       "      <td>2.461242</td>\n",
       "    </tr>\n",
       "    <tr>\n",
       "      <th>2</th>\n",
       "      <td>1.0</td>\n",
       "      <td>0.0</td>\n",
       "      <td>-0.153846</td>\n",
       "      <td>-0.282777</td>\n",
       "    </tr>\n",
       "    <tr>\n",
       "      <th>3</th>\n",
       "      <td>1.0</td>\n",
       "      <td>-2.0</td>\n",
       "      <td>0.538462</td>\n",
       "      <td>1.673732</td>\n",
       "    </tr>\n",
       "    <tr>\n",
       "      <th>4</th>\n",
       "      <td>0.0</td>\n",
       "      <td>0.0</td>\n",
       "      <td>0.538462</td>\n",
       "      <td>-0.277363</td>\n",
       "    </tr>\n",
       "  </tbody>\n",
       "</table>\n",
       "</div>"
      ],
      "text/plain": [
       "   Survived  Pclass       Age      Fare\n",
       "0       0.0     0.0 -0.461538 -0.312011\n",
       "1       1.0    -2.0  0.769231  2.461242\n",
       "2       1.0     0.0 -0.153846 -0.282777\n",
       "3       1.0    -2.0  0.538462  1.673732\n",
       "4       0.0     0.0  0.538462 -0.277363"
      ]
     },
     "execution_count": 43,
     "metadata": {},
     "output_type": "execute_result"
    }
   ],
   "source": [
    "from sklearn.preprocessing import RobustScaler\n",
    "scaler = RobustScaler()\n",
    "df_robust_sacaler = pd.DataFrame(scaler.fit_transform(df),columns=df.columns)\n",
    "df_robust_sacaler.head()"
   ]
  },
  {
   "cell_type": "code",
   "execution_count": 44,
   "metadata": {},
   "outputs": [
    {
     "data": {
      "text/plain": [
       "(array([ 40.,  14.,  15.,  31.,  79.,  98., 262.,  84.,  73.,  45.,  35.,\n",
       "         35.,  29.,  16.,  13.,  11.,   4.,   5.,   1.,   1.]),\n",
       " array([-2.12153846, -1.81546154, -1.50938462, -1.20330769, -0.89723077,\n",
       "        -0.59115385, -0.28507692,  0.021     ,  0.32707692,  0.63315385,\n",
       "         0.93923077,  1.24530769,  1.55138462,  1.85746154,  2.16353846,\n",
       "         2.46961538,  2.77569231,  3.08176923,  3.38784615,  3.69392308,\n",
       "         4.        ]),\n",
       " <a list of 20 Patch objects>)"
      ]
     },
     "execution_count": 44,
     "metadata": {},
     "output_type": "execute_result"
    },
    {
     "data": {
      "image/png": "[encoded data removed]",
      "text/plain": [
       "<Figure size 432x288 with 1 Axes>"
      ]
     },
     "metadata": {
      "needs_background": "light"
     },
     "output_type": "display_data"
    }
   ],
   "source": [
    "plt.hist(df_robust_sacaler['Age'], bins=20)"
   ]
  },
  {
   "cell_type": "code",
   "execution_count": 45,
   "metadata": {},
   "outputs": [
    {
     "data": {
      "text/plain": [
       "(array([562., 170.,  67.,  39.,  15.,  16.,   2.,   0.,   9.,   2.,   6.,\n",
       "          0.,   0.,   0.,   0.,   0.,   0.,   0.,   0.,   3.]),\n",
       " array([-0.62600478,  0.48343237,  1.59286952,  2.70230667,  3.81174382,\n",
       "         4.92118096,  6.03061811,  7.14005526,  8.24949241,  9.35892956,\n",
       "        10.46836671, 11.57780386, 12.68724101, 13.79667816, 14.90611531,\n",
       "        16.01555246, 17.12498961, 18.23442675, 19.3438639 , 20.45330105,\n",
       "        21.5627382 ]),\n",
       " <a list of 20 Patch objects>)"
      ]
     },
     "execution_count": 45,
     "metadata": {},
     "output_type": "execute_result"
    },
    {
     "data": {
      "image/png": "[encoded data removed]",
      "text/plain": [
       "<Figure size 432x288 with 1 Axes>"
      ]
     },
     "metadata": {
      "needs_background": "light"
     },
     "output_type": "display_data"
    }
   ],
   "source": [
    "plt.hist(df_robust_sacaler['Fare'], bins=20)"
   ]
  },
  {
   "cell_type": "code",
   "execution_count": 46,
   "metadata": {},
   "outputs": [
    {
     "data": {
      "text/plain": [
       "(array([216.,   0.,   0.,   0.,   0.,   0.,   0.,   0.,   0.,   0., 184.,\n",
       "          0.,   0.,   0.,   0.,   0.,   0.,   0.,   0., 491.]),\n",
       " array([-2. , -1.9, -1.8, -1.7, -1.6, -1.5, -1.4, -1.3, -1.2, -1.1, -1. ,\n",
       "        -0.9, -0.8, -0.7, -0.6, -0.5, -0.4, -0.3, -0.2, -0.1,  0. ]),\n",
       " <a list of 20 Patch objects>)"
      ]
     },
     "execution_count": 46,
     "metadata": {},
     "output_type": "execute_result"
    },
    {
     "data": {
      "image/png": "[encoded data removed]",
      "text/plain": [
       "<Figure size 432x288 with 1 Axes>"
      ]
     },
     "metadata": {
      "needs_background": "light"
     },
     "output_type": "display_data"
    }
   ],
   "source": [
    "plt.hist(df_robust_sacaler['Pclass'], bins=20)"
   ]
  },
  {
   "cell_type": "markdown",
   "metadata": {},
   "source": [
    "## Robust is the best scaler and its named robust is due to its work on outliers.\n",
    "Scale features using statistics that are robust to outliers.\n",
    "\n",
    "This Scaler removes the median and scales the data according to the quantile range (defaults to IQR: Interquartile Range). The IQR is the range between the 1st quartile (25th quantile) and the 3rd quartile (75th quantile).\n",
    "\n",
    "Centering and scaling happen independently on each feature by computing the relevant statistics on the samples in the training set. Median and interquartile range are then stored to be used on later data using the transform method.\n",
    "\n",
    "Standardization of a dataset is a common requirement for many machine learning estimators. Typically this is done by removing the mean and scaling to unit variance. However, outliers can often influence the sample mean / variance in a negative way. In such cases, the median and the interquartile range often give better results."
   ]
  },
  {
   "cell_type": "markdown",
   "metadata": {},
   "source": [
    "# Gaussian Transformation\n",
    "\n",
    "Some Machine Learning Algorithms like linear and logistic assume that the feature are normally distributed.\n",
    "- Accuracy\n",
    "- Performance\n",
    "\n",
    "1.if your distribution is not normally distributed so we can apply some mathematical equation and then convert that in to gaussian Distribution.\n",
    "\n",
    "Techniques:(i) Logarithmic Transformation\n",
    "        (ii) Reciprocal Transformation\n",
    "        (iii)Square Root Transformation\n",
    "        (iv) Exponential Transformation\n",
    "        (v)Box Cox Transformation"
   ]
  },
  {
   "cell_type": "code",
   "execution_count": 47,
   "metadata": {},
   "outputs": [],
   "source": [
    "df = pd.read_csv('train.csv', usecols=['Age','Fare','Survived'])"
   ]
  },
  {
   "cell_type": "code",
   "execution_count": 48,
   "metadata": {},
   "outputs": [
    {
     "data": {
      "text/html": [
       "<div>\n",
       "<style scoped>\n",
       "    .dataframe tbody tr th:only-of-type {\n",
       "        vertical-align: middle;\n",
       "    }\n",
       "\n",
       "    .dataframe tbody tr th {\n",
       "        vertical-align: top;\n",
       "    }\n",
       "\n",
       "    .dataframe thead th {\n",
       "        text-align: right;\n",
       "    }\n",
       "</style>\n",
       "<table border=\"1\" class=\"dataframe\">\n",
       "  <thead>\n",
       "    <tr style=\"text-align: right;\">\n",
       "      <th></th>\n",
       "      <th>Survived</th>\n",
       "      <th>Age</th>\n",
       "      <th>Fare</th>\n",
       "    </tr>\n",
       "  </thead>\n",
       "  <tbody>\n",
       "    <tr>\n",
       "      <th>0</th>\n",
       "      <td>0</td>\n",
       "      <td>22.0</td>\n",
       "      <td>7.2500</td>\n",
       "    </tr>\n",
       "    <tr>\n",
       "      <th>1</th>\n",
       "      <td>1</td>\n",
       "      <td>38.0</td>\n",
       "      <td>71.2833</td>\n",
       "    </tr>\n",
       "    <tr>\n",
       "      <th>2</th>\n",
       "      <td>1</td>\n",
       "      <td>26.0</td>\n",
       "      <td>7.9250</td>\n",
       "    </tr>\n",
       "    <tr>\n",
       "      <th>3</th>\n",
       "      <td>1</td>\n",
       "      <td>35.0</td>\n",
       "      <td>53.1000</td>\n",
       "    </tr>\n",
       "    <tr>\n",
       "      <th>4</th>\n",
       "      <td>0</td>\n",
       "      <td>35.0</td>\n",
       "      <td>8.0500</td>\n",
       "    </tr>\n",
       "    <tr>\n",
       "      <th>5</th>\n",
       "      <td>0</td>\n",
       "      <td>NaN</td>\n",
       "      <td>8.4583</td>\n",
       "    </tr>\n",
       "    <tr>\n",
       "      <th>6</th>\n",
       "      <td>0</td>\n",
       "      <td>54.0</td>\n",
       "      <td>51.8625</td>\n",
       "    </tr>\n",
       "    <tr>\n",
       "      <th>7</th>\n",
       "      <td>0</td>\n",
       "      <td>2.0</td>\n",
       "      <td>21.0750</td>\n",
       "    </tr>\n",
       "    <tr>\n",
       "      <th>8</th>\n",
       "      <td>1</td>\n",
       "      <td>27.0</td>\n",
       "      <td>11.1333</td>\n",
       "    </tr>\n",
       "    <tr>\n",
       "      <th>9</th>\n",
       "      <td>1</td>\n",
       "      <td>14.0</td>\n",
       "      <td>30.0708</td>\n",
       "    </tr>\n",
       "  </tbody>\n",
       "</table>\n",
       "</div>"
      ],
      "text/plain": [
       "   Survived   Age     Fare\n",
       "0         0  22.0   7.2500\n",
       "1         1  38.0  71.2833\n",
       "2         1  26.0   7.9250\n",
       "3         1  35.0  53.1000\n",
       "4         0  35.0   8.0500\n",
       "5         0   NaN   8.4583\n",
       "6         0  54.0  51.8625\n",
       "7         0   2.0  21.0750\n",
       "8         1  27.0  11.1333\n",
       "9         1  14.0  30.0708"
      ]
     },
     "execution_count": 48,
     "metadata": {},
     "output_type": "execute_result"
    }
   ],
   "source": [
    "df.head(10)"
   ]
  },
  {
   "cell_type": "code",
   "execution_count": 49,
   "metadata": {},
   "outputs": [],
   "source": [
    "###fill nan values\n",
    "\n",
    "df[\"Age\"]= df['Age'].fillna(df['Age'].median())"
   ]
  },
  {
   "cell_type": "code",
   "execution_count": 54,
   "metadata": {},
   "outputs": [
    {
     "data": {
      "text/plain": [
       "Survived    0\n",
       "Age         0\n",
       "Fare        0\n",
       "dtype: int64"
      ]
     },
     "execution_count": 54,
     "metadata": {},
     "output_type": "execute_result"
    }
   ],
   "source": [
    "df.isnull().sum()"
   ]
  },
  {
   "cell_type": "code",
   "execution_count": 56,
   "metadata": {},
   "outputs": [],
   "source": [
    "import scipy.stats as stat\n",
    "import pylab"
   ]
  },
  {
   "cell_type": "code",
   "execution_count": 60,
   "metadata": {},
   "outputs": [],
   "source": [
    "### if you want to check whether feature is gaussian or normal distributed we will use Q-QPLOT.\n",
    "def plot_data(df,feature):\n",
    "    plt.figure(figsize=(10,6))\n",
    "    plt.subplot(1,2,1)\n",
    "    df[feature].hist()\n",
    "    plt.subplot(1,2,2)\n",
    "    stats.probplot(df[feature],dist='norm', plot=pylab)\n",
    "    plt.show()\n",
    "    "
   ]
  },
  {
   "cell_type": "code",
   "execution_count": 61,
   "metadata": {},
   "outputs": [
    {
     "data": {
      "image/png": "[encoded data removed]",
      "text/plain": [
       "<Figure size 720x432 with 2 Axes>"
      ]
     },
     "metadata": {
      "needs_background": "light"
     },
     "output_type": "display_data"
    }
   ],
   "source": [
    "plot_data(df,'Age')"
   ]
  },
  {
   "cell_type": "markdown",
   "metadata": {},
   "source": [
    "# Logarithmic Transformation"
   ]
  },
  {
   "cell_type": "code",
   "execution_count": 62,
   "metadata": {},
   "outputs": [
    {
     "data": {
      "image/png": "[encoded data removed]",
      "text/plain": [
       "<Figure size 720x432 with 2 Axes>"
      ]
     },
     "metadata": {
      "needs_background": "light"
     },
     "output_type": "display_data"
    }
   ],
   "source": [
    "import numpy as np\n",
    "df['Age_log']=np.log(df['Age'])\n",
    "plot_data(df,'Age_log')"
   ]
  },
  {
   "cell_type": "markdown",
   "metadata": {},
   "source": [
    "### so here we can say that logarithmic technique failed. cause the data is imablaced now. we will move on to the next technique\n",
    "\n",
    "log will work well when  our data is left skewed or right. and so it can convert data in tp gaussian distribution"
   ]
  },
  {
   "cell_type": "markdown",
   "metadata": {},
   "source": [
    "# Reciprocal Transformation"
   ]
  },
  {
   "cell_type": "code",
   "execution_count": 65,
   "metadata": {},
   "outputs": [
    {
     "data": {
      "image/png": "[encoded data removed]",
      "text/plain": [
       "<Figure size 720x432 with 2 Axes>"
      ]
     },
     "metadata": {
      "needs_background": "light"
     },
     "output_type": "display_data"
    }
   ],
   "source": [
    "df['Age_reciprocal'] = 1/df.Age\n",
    "plot_data(df,'Age_reciprocal')"
   ]
  },
  {
   "cell_type": "markdown",
   "metadata": {},
   "source": [
    "# Square Root Transformation"
   ]
  },
  {
   "cell_type": "code",
   "execution_count": 66,
   "metadata": {},
   "outputs": [],
   "source": [
    "df['Age_square']=df.Age**(1/2)"
   ]
  },
  {
   "cell_type": "code",
   "execution_count": 67,
   "metadata": {},
   "outputs": [
    {
     "data": {
      "image/png": "[encoded data removed]",
      "text/plain": [
       "<Figure size 720x432 with 2 Axes>"
      ]
     },
     "metadata": {
      "needs_background": "light"
     },
     "output_type": "display_data"
    }
   ],
   "source": [
    "plot_data(df, 'Age_square')"
   ]
  },
  {
   "cell_type": "markdown",
   "metadata": {},
   "source": [
    "# Exponential Transformation"
   ]
  },
  {
   "cell_type": "code",
   "execution_count": 70,
   "metadata": {},
   "outputs": [
    {
     "data": {
      "image/png": "[encoded data removed]",
      "text/plain": [
       "<Figure size 720x432 with 2 Axes>"
      ]
     },
     "metadata": {
      "needs_background": "light"
     },
     "output_type": "display_data"
    }
   ],
   "source": [
    "df['Age_exponential']=df.Age**(1/1.2)\n",
    "plot_data(df,'Age_exponential')"
   ]
  },
  {
   "attachments": {},
   "cell_type": "markdown",
   "metadata": {},
   "source": [
    "# Box-Cox Transformation\n",
    "\n",
    "George Box and Sir David Cox collaborated on one paper (Box, 1964). The story is that while Cox was visiting Box at Wisconsin, they decided they should write a paper together because of the similarity of their names (and that both are British). In fact, Professor Box is married to the daughter of Sir Ronald Fisher.\n",
    "\n",
    "The Box-Cox transformation of the variable x is also indexed by λ.\n",
    "\n",
    " Formula:- T(y)=(Y exp(lambda)-1)/lambda"
   ]
  },
  {
   "cell_type": "code",
   "execution_count": 72,
   "metadata": {},
   "outputs": [
    {
     "data": {
      "text/plain": [
       "(array([13.468119  , 21.4987284 , 15.56341683, 20.05611014, 20.05611014,\n",
       "        16.58601436, 28.84746463,  0.92513402, 16.07664335,  9.01695462,\n",
       "         2.53193075, 30.6104327 , 12.39181078, 21.97437834,  9.01695462,\n",
       "        29.29062758,  0.92513402, 16.58601436, 18.09258499, 16.58601436,\n",
       "        20.05611014, 19.56971919,  9.59722218, 16.58601436,  5.32265694,\n",
       "        21.4987284 , 16.58601436, 11.84551333, 16.58601436, 16.58601436,\n",
       "        22.44755196, 16.58601436, 16.58601436, 34.06447944, 16.58601436,\n",
       "        23.38676361, 16.58601436, 12.93257404, 11.29332892,  9.01695462,\n",
       "        22.44755196, 16.07664335, 16.58601436,  1.75636071, 11.84551333,\n",
       "        16.58601436, 16.58601436, 16.58601436, 16.58601436, 11.29332892,\n",
       "         4.65897047, 12.93257404, 26.60575762, 17.09169505, 33.6375945 ,\n",
       "        16.58601436, 12.93257404, 16.83930618,  3.26857952,  7.221786  ,\n",
       "        13.468119  , 21.4987284 , 24.77874367,  2.53193075, 16.58601436,\n",
       "        16.58601436, 17.09169505, 11.84551333, 10.7348613 , 15.56341683,\n",
       "        18.5880672 , 10.16966246, 12.93257404, 15.56341683, 18.5880672 ,\n",
       "        15.04615552, 16.58601436, 16.58601436, -0.17316296, 17.59383809,\n",
       "        13.468119  , 17.09169505, 16.58601436, 16.58601436, 10.7348613 ,\n",
       "        19.08040717, 10.16966246, 16.58601436, 13.99873002, 14.5246643 ,\n",
       "        17.09169505, 12.39181078, 25.23849092, 15.56341683, 31.04725247,\n",
       "        16.58601436, 36.17964611, 13.99873002, 19.56971919, 19.56971919,\n",
       "        16.58601436, 16.58601436, 12.93257404, 19.08040717, 21.02052347,\n",
       "        16.58601436, 12.93257404, 16.58601436, 21.4987284 , 16.58601436,\n",
       "        25.69620814,  9.30810682, 13.468119  , 12.39181078, 10.7348613 ,\n",
       "        12.93257404, 35.96952764, 17.09169505, 14.5246643 ,  0.92513402,\n",
       "        12.93257404, 16.58601436, 18.83462264, 18.83462264, 28.84746463,\n",
       "         7.83010563, 16.58601436, 14.5246643 , 16.58601436, 24.77874367,\n",
       "        19.08040717, 12.39181078, 25.69620814, 17.09169505, 15.04615552,\n",
       "        13.99873002, 11.84551333, 21.02052347, 10.16966246, 14.5246643 ,\n",
       "        16.58601436, 13.468119  , 14.5246643 , 11.84551333, 11.29332892,\n",
       "        11.84551333, 16.07664335,  5.96962245, 20.78043704, 23.38676361,\n",
       "        27.50777955, 13.468119  , 29.5115929 , 22.68323354, 16.58601436,\n",
       "        27.50777955, 10.16966246, 17.59383809, 16.58601436, 16.58601436,\n",
       "        24.31691197, 22.44755196, 15.56341683, 10.7348613 ,  0.        ,\n",
       "         5.96962245, 16.58601436, 24.77874367, 16.58601436, 16.58601436,\n",
       "        31.91640866,  2.53193075,  0.        , 12.93257404, 29.73215339,\n",
       "        11.29332892, 16.58601436, 27.05768667, 17.59383809, 20.53968021,\n",
       "        16.58601436, 16.58601436,  5.96962245,  0.        ,  2.53193075,\n",
       "        16.58601436, 16.58601436, 24.77874367, 22.44755196, 20.53968021,\n",
       "        18.5880672 , 11.84551333, 11.84551333,  1.75636071, 24.31691197,\n",
       "        30.6104327 , 16.58601436, 23.38676361, 16.58601436, 14.5246643 ,\n",
       "        16.58601436, 16.58601436, 19.56971919, 25.00887439, 11.29332892,\n",
       "         0.92513402, 18.5880672 , 15.56341683, 10.16966246, 22.44755196,\n",
       "        14.5246643 , 20.05611014, 13.468119  , 17.59383809, 16.58601436,\n",
       "        18.09258499, 16.07664335, 23.38676361, 18.5880672 , 17.59383809,\n",
       "        10.16966246, 16.07664335, 27.50777955, 16.58601436, 21.4987284 ,\n",
       "        13.468119  , 11.84551333, 12.66286364, 11.29332892, 16.58601436,\n",
       "        20.05611014, 17.09169505, 31.04725247,  3.26857952, 14.5246643 ,\n",
       "        16.58601436, 24.31691197,  5.32265694, 11.84551333, 19.08040717,\n",
       "        16.58601436, 16.58601436, 17.09169505, 13.468119  , 17.59383809,\n",
       "        24.31691197, 15.04615552, 14.5246643 , 21.02052347, 28.84746463,\n",
       "        16.58601436, 17.09169505, 32.34880427, 17.59383809, 22.9183236 ,\n",
       "        17.09169505, 16.58601436, 17.59383809, 20.05611014, 27.05768667,\n",
       "        16.58601436,  1.75636071, 27.9560795 , 22.44755196, 16.58601436,\n",
       "        20.53968021, 10.16966246, 15.04615552, 30.6104327 , 20.05611014,\n",
       "        16.58601436, 15.04615552, 22.9183236 , 21.02052347, 16.58601436,\n",
       "        32.77978258, 24.77874367, 16.58601436,  4.65897047, 20.05611014,\n",
       "        33.6375945 , 16.58601436, 10.16966246, 11.84551333, 16.58601436,\n",
       "        19.08040717, 17.59383809, 13.468119  , 23.38676361, 13.468119  ,\n",
       "        15.56341683, 11.84551333, 20.53968021, 14.5246643 , 14.5246643 ,\n",
       "        16.58601436, 14.26226663,  0.92513402, 16.58601436, 27.05768667,\n",
       "        16.58601436, 16.58601436, 11.84551333, 16.58601436, 16.58601436,\n",
       "        -0.08067323, 16.58601436, 10.7348613 , 17.59383809, 17.59383809,\n",
       "        14.5246643 , 11.29332892, 15.56341683, 16.58601436, 23.85293864,\n",
       "        15.56341683, 14.5246643 , 28.84746463, 18.09258499, 22.44755196,\n",
       "        13.468119  , 16.07664335, 17.59383809, 13.468119  , 16.58601436,\n",
       "        20.53968021, 31.91640866, 20.53968021, 18.09258499, 10.16966246,\n",
       "        16.58601436, 25.00887439, 21.4987284 , 10.16966246, 16.58601436,\n",
       "        16.58601436, 17.09169505, 22.9183236 , 24.77874367, 24.77874367,\n",
       "         0.92513402, 14.5246643 , 16.58601436, 15.04615552, 20.53968021,\n",
       "        14.5246643 , 22.44755196, 16.58601436,  1.75636071, 23.38676361,\n",
       "        13.99873002, 16.58601436,  9.59722218, 15.04615552, 16.58601436,\n",
       "        16.58601436, 13.468119  , 21.4987284 , 16.58601436, 16.58601436,\n",
       "        22.44755196, 17.09169505, 24.77874367, 20.05611014, 16.58601436,\n",
       "        17.59383809, 31.48256774, 16.58601436, 16.58601436, 14.5246643 ,\n",
       "        15.04615552, 11.29332892, 11.84551333, 13.468119  ,  1.75636071,\n",
       "        16.58601436, 13.468119  , 16.07664335, 12.39181078, 11.84551333,\n",
       "        23.38676361,  0.        , 18.5880672 , 20.05611014, 16.58601436,\n",
       "        11.29332892,  0.        , 20.53968021, 16.58601436, 10.7348613 ,\n",
       "        20.53968021, 12.93257404, 16.58601436, 13.99873002, 14.5246643 ,\n",
       "        13.468119  , 18.09258499, 25.23849092, 13.99873002, 16.58601436,\n",
       "        21.97437834, 15.56341683, 12.93257404, 16.58601436, 12.39181078,\n",
       "        19.56971919, 27.50777955,  1.75636071, 12.93257404, 16.58601436,\n",
       "        16.58601436, 16.58601436, 19.08040717, 16.58601436, 24.31691197,\n",
       "        16.58601436, 19.56971919, 11.29332892, 17.59383809,  6.6020876 ,\n",
       "        16.58601436, 12.93257404, 17.09169505, 16.58601436, 11.29332892,\n",
       "        16.58601436, 16.58601436, 11.84551333, 16.58601436, 18.5880672 ,\n",
       "        16.58601436, 16.58601436, 23.38676361, 10.7348613 , 27.05768667,\n",
       "         9.01695462, 12.93257404, 14.5246643 , 33.20937062, 18.09258499,\n",
       "        24.77874367, 12.39181078, 15.04615552, 16.58601436, 16.58601436,\n",
       "         2.53193075,  8.42818085, 19.56971919,  3.26857952, 27.9560795 ,\n",
       "        20.53968021, 16.58601436, 17.59383809, 26.60575762, 16.58601436,\n",
       "        17.09169505, 33.6375945 , 16.58601436, 27.05768667, 16.58601436,\n",
       "        26.15194721, 19.56971919, 25.69620814, 26.15194721, 16.58601436,\n",
       "        21.4987284 , 16.58601436, 29.73215339, 16.58601436, -0.25710377,\n",
       "        16.58601436, 21.4987284 , 19.08040717, 13.99873002, 13.468119  ,\n",
       "        16.58601436, 19.56971919, 17.09169505, 13.468119  ,  0.92513402,\n",
       "         5.96962245, 16.58601436, 27.05768667, 32.77978258, 15.04615552,\n",
       "        16.58601436, 20.05611014, 30.6104327 , 17.59383809,  5.96962245,\n",
       "        16.58601436, 12.93257404, 29.29062758, 36.17964611, 12.93257404,\n",
       "        16.58601436, 28.84746463, 16.58601436, 15.04615552, 14.5246643 ,\n",
       "        10.7348613 , 12.93257404, 16.58601436, 21.02052347, 10.16966246,\n",
       "        11.29332892, 19.08040717, 16.58601436, 16.58601436, 15.56341683,\n",
       "        17.09169505, 16.58601436, 20.53968021, 28.84746463, 14.5246643 ,\n",
       "        25.69620814, 19.56971919, 16.58601436, 20.53968021, 18.5880672 ,\n",
       "        17.59383809, 13.468119  , 16.58601436, 24.31691197, 16.58601436,\n",
       "        22.68323354, 27.05768667, 16.58601436, 21.97437834, 13.99873002,\n",
       "         0.92513402, 16.58601436, 10.7348613 , 16.58601436, 17.59383809,\n",
       "         4.65897047, 24.77874367, 17.59383809, 16.58601436, 13.468119  ,\n",
       "        20.53968021,  5.96962245,  7.221786  , 18.5880672 , 27.05768667,\n",
       "        33.20937062, 11.84551333, 16.58601436, 19.08040717,  5.32265694,\n",
       "        10.7348613 , 16.07664335, 16.58601436, 13.468119  , 13.468119  ,\n",
       "        32.34880427, 26.15194721, 16.58601436, 21.97437834, 20.53968021,\n",
       "        16.58601436, 22.44755196, 16.58601436, 16.58601436, 16.58601436,\n",
       "        14.5246643 , 11.84551333, 17.09169505, 16.58601436, 18.5880672 ,\n",
       "        32.34880427, 28.40262796, 20.53968021, 16.58601436, 10.16966246,\n",
       "        11.84551333, 19.56971919, 21.97437834, 16.58601436, 18.5880672 ,\n",
       "        15.04615552, 21.97437834, 28.84746463, 20.53968021, 16.58601436,\n",
       "        11.29332892, 25.69620814, 31.48256774, 13.468119  , 16.58601436,\n",
       "        20.05611014, 27.9560795 , 25.69620814, 16.58601436, 21.02052347,\n",
       "        20.53968021, 16.58601436, 26.60575762, 16.58601436, 26.60575762,\n",
       "        14.5246643 , 16.58601436, 16.58601436, 24.31691197, 20.05611014,\n",
       "        20.53968021, 17.59383809, 16.07664335, 13.468119  , 22.44755196,\n",
       "        21.97437834, 16.58601436, 16.58601436, 16.58601436, 20.05611014,\n",
       "        14.5246643 , 19.56971919, 15.56341683,  2.53193075, 15.56341683,\n",
       "        16.07664335, 23.38676361, 12.39181078, 12.93257404, 12.93257404,\n",
       "        31.91640866, 30.17207717, 12.93257404, 15.56341683, 16.58601436,\n",
       "        39.91262372, 27.50777955, 18.5880672 , 16.58601436,  5.96962245,\n",
       "        16.58601436, 18.5880672 , 18.09258499, 22.9183236 , 16.58601436,\n",
       "        12.39181078, 14.5246643 ,  0.92513402, 16.58601436, -0.25710377,\n",
       "        26.15194721, 11.84551333, 29.73215339, 16.58601436, 13.99873002,\n",
       "        16.58601436, 11.29332892, 12.93257404, 16.58601436, 11.29332892,\n",
       "        14.5246643 , 16.58601436, 18.5880672 , 13.99873002, 30.6104327 ,\n",
       "        27.05768667, 22.44755196, 25.69620814, 20.53968021, 12.39181078,\n",
       "        18.5880672 , 15.04615552, 16.58601436, 23.85293864, 16.58601436,\n",
       "        22.44755196, 18.09258499, 35.75910562, 18.09258499, 16.58601436,\n",
       "        11.29332892, 14.78595152, 11.29332892, 23.85293864, 20.53968021,\n",
       "        16.58601436, 16.07664335, 12.39181078,  9.01695462, 31.48256774,\n",
       "        15.04615552,  9.01695462, 11.84551333, 11.29332892,  9.59722218,\n",
       "        18.09258499,  2.53193075, 16.58601436, 15.04615552, 31.48256774,\n",
       "        27.9560795 , 24.31691197, 16.58601436, 26.60575762, 23.38676361,\n",
       "        11.29332892, 20.05611014, 11.29332892, 15.04615552, 15.56341683,\n",
       "        21.97437834, 24.77874367, 23.38676361, 13.468119  , 16.58601436,\n",
       "        14.5246643 , 16.58601436, 26.15194721, 17.09169505, 27.9560795 ,\n",
       "        11.84551333, 21.4987284 , 16.07664335, 16.58601436, 19.08040717,\n",
       "         3.9756268 , 10.7348613 , 19.56971919, 27.05768667, 16.07664335,\n",
       "        12.39181078, 17.59383809, 16.58601436, 15.04615552, 15.04615552,\n",
       "        17.09169505,  7.221786  , 16.58601436, 13.99873002, 13.99873002,\n",
       "        16.83930618, 26.15194721, 20.05611014, 16.58601436, 16.58601436,\n",
       "        16.58601436, 20.53968021, 12.93257404, 14.5246643 , 18.09258499,\n",
       "        35.75910562, 10.16966246, 17.59383809, 11.84551333, 18.09258499,\n",
       "         2.53193075,  3.9756268 , 19.08040717, 13.99873002, 26.15194721,\n",
       "        -0.34289092, 16.58601436, 11.29332892, 19.56971919, 19.08040717,\n",
       "        16.58601436, 22.9183236 , 12.39181078, 20.53968021, 10.16966246,\n",
       "        27.50777955, 16.58601436, 17.84362762, 16.58601436, 18.5880672 ,\n",
       "        14.5246643 , 26.15194721, 30.17207717, 16.58601436, 28.84746463,\n",
       "        11.29332892, 16.58601436,  3.26857952, 16.58601436, 23.85293864,\n",
       "         8.42818085, 10.7348613 , 17.09169505, 16.58601436, 15.04615552,\n",
       "        15.04615552, 11.29332892,  5.32265694,  0.        , 25.23849092,\n",
       "        16.58601436, 10.16966246, 16.58601436, 16.58601436, 15.04615552,\n",
       "        21.97437834, 26.60575762, 18.09258499, 17.59383809, 17.59383809,\n",
       "        19.56971919, 18.09258499,  7.221786  , -0.62638581, 16.07664335,\n",
       "        18.09258499, 21.97437834, 11.29332892, 21.97437834, 19.08040717,\n",
       "        15.56341683, 21.97437834, 20.05611014,  3.9756268 , 17.84362762,\n",
       "        16.58601436, 13.99873002, 18.09258499, 23.85293864,  6.6020876 ,\n",
       "        27.9560795 , 16.07664335, 21.4987284 , 16.07664335,  0.92513402,\n",
       "        16.58601436, 16.58601436,  0.        , 16.58601436, 32.34880427,\n",
       "         9.59722218, -0.17316296, 16.58601436, 13.99873002, 11.29332892,\n",
       "        21.97437834, 12.93257404, 16.58601436, 18.5880672 , 16.58601436,\n",
       "        12.39181078, 10.16966246, 17.59383809, 19.81327339, 10.7348613 ,\n",
       "        23.38676361, 16.58601436, 20.05611014, 16.58601436, 16.58601436,\n",
       "         2.53193075, 37.43412368,  5.96962245, 10.16966246, 24.31691197,\n",
       "        11.29332892, 24.77874367, 27.50777955, 14.5246643 , 16.58601436,\n",
       "        22.9183236 , 12.93257404, 26.15194721, 16.58601436, 14.5246643 ,\n",
       "        23.38676361, 16.07664335, 18.09258499, 16.58601436,  2.53193075,\n",
       "        15.56341683, 25.69620814, 19.08040717, 25.69620814, 16.58601436,\n",
       "         9.59722218, 12.39181078, 11.84551333, 16.58601436, 29.73215339,\n",
       "        15.04615552, 19.08040717, 13.468119  , 16.58601436, 15.04615552,\n",
       "        21.97437834, 16.07664335, 11.84551333, 16.58601436, 15.56341683,\n",
       "        18.5880672 ]),\n",
       " 0.7964531473656952)"
      ]
     },
     "execution_count": 72,
     "metadata": {},
     "output_type": "execute_result"
    }
   ],
   "source": [
    "stat.boxcox(df['Age'])"
   ]
  },
  {
   "cell_type": "code",
   "execution_count": 73,
   "metadata": {},
   "outputs": [],
   "source": [
    "df['Age_boxcox'],parameters=stat.boxcox(df['Age'])"
   ]
  },
  {
   "cell_type": "code",
   "execution_count": 74,
   "metadata": {},
   "outputs": [
    {
     "data": {
      "image/png": "[encoded data removed]",
      "text/plain": [
       "<Figure size 720x432 with 2 Axes>"
      ]
     },
     "metadata": {
      "needs_background": "light"
     },
     "output_type": "display_data"
    }
   ],
   "source": [
    "plot_data(df,'Age_boxcox')"
   ]
  },
  {
   "cell_type": "code",
   "execution_count": null,
   "metadata": {},
   "outputs": [],
   "source": []
  }
 ],
 "metadata": {
  "kernelspec": {
   "display_name": "Python 3",
   "language": "python",
   "name": "python3"
  },
  "language_info": {
   "codemirror_mode": {
    "name": "ipython",
    "version": 3
   },
   "file_extension": ".py",
   "mimetype": "text/x-python",
   "name": "python",
   "nbconvert_exporter": "python",
   "pygments_lexer": "ipython3",
   "version": "3.7.6"
  }
 },
 "nbformat": 4,
 "nbformat_minor": 4
}
